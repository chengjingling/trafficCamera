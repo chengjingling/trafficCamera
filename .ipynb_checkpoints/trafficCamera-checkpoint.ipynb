{
 "cells": [
  {
   "cell_type": "markdown",
   "id": "5546fda0",
   "metadata": {},
   "source": [
    "# Installing OpenCV"
   ]
  },
  {
   "cell_type": "code",
   "execution_count": 1,
   "id": "a17d2eab",
   "metadata": {},
   "outputs": [
    {
     "name": "stdout",
     "output_type": "stream",
     "text": [
      "Requirement already satisfied: opencv-python in /Users/jingling/anaconda3/lib/python3.11/site-packages (4.9.0.80)\n",
      "Requirement already satisfied: numpy>=1.21.2 in /Users/jingling/anaconda3/lib/python3.11/site-packages (from opencv-python) (1.24.3)\n",
      "Note: you may need to restart the kernel to use updated packages.\n"
     ]
    }
   ],
   "source": [
    "pip install opencv-python"
   ]
  },
  {
   "cell_type": "markdown",
   "id": "926492fb",
   "metadata": {},
   "source": [
    "# Importing OpenCV"
   ]
  },
  {
   "cell_type": "code",
   "execution_count": 2,
   "id": "32027dbf",
   "metadata": {},
   "outputs": [],
   "source": [
    "import cv2"
   ]
  },
  {
   "cell_type": "markdown",
   "id": "4c37fabc",
   "metadata": {},
   "source": [
    "# Exercise 1.1\n",
    "This exercise aims to detect the number of cars on the main street.\n",
    "## First implementation"
   ]
  },
  {
   "cell_type": "code",
   "execution_count": 3,
   "id": "eae76acd",
   "metadata": {},
   "outputs": [],
   "source": [
    "def task1_original(video_file):\n",
    "    status_list = [0, 0]\n",
    "    car_count = 0\n",
    "    initial_frame = None\n",
    "\n",
    "    # Read video file\n",
    "    video = cv2.VideoCapture(video_file)\n",
    "\n",
    "    # Check if video file opened successfully\n",
    "    if not video.isOpened(): \n",
    "        print('Error opening video file')\n",
    "\n",
    "    # Get video duration in seconds\n",
    "    frame_count = video.get(cv2.CAP_PROP_FRAME_COUNT)\n",
    "    fps = video.get(cv2.CAP_PROP_FPS)\n",
    "    duration = frame_count / fps\n",
    "\n",
    "    # Main loop to process each frame\n",
    "    while True:\n",
    "        # Read the current frame\n",
    "        check, frame = video.read()\n",
    "\n",
    "        # Continue processing if frame read successfully\n",
    "        if check:\n",
    "            status = 0\n",
    "\n",
    "            # Extract the main street region from the frame\n",
    "            height, width = frame.shape[:2]\n",
    "            main_street = frame[int(height / 2):, :]\n",
    "\n",
    "            # Convert the region to grayscale and apply Gaussian blur\n",
    "            gray_frame = cv2.cvtColor(main_street, cv2.COLOR_BGR2GRAY)\n",
    "            blur_frame = cv2.GaussianBlur(gray_frame, (25, 25), 0)\n",
    "\n",
    "            # If it is the first frame, set it as the initial frame for comparison\n",
    "            if initial_frame is None:\n",
    "                initial_frame = blur_frame\n",
    "                continue\n",
    "\n",
    "            # Calculate the difference between the current frame and the initial frame\n",
    "            delta_frame = cv2.absdiff(initial_frame, blur_frame)\n",
    "            _, threshold_frame = cv2.threshold(delta_frame, 0, 255, cv2.THRESH_BINARY + cv2.THRESH_OTSU)\n",
    "\n",
    "            # Find contours in the threshold frame\n",
    "            contours, _ = cv2.findContours(threshold_frame, cv2.RETR_EXTERNAL, cv2.CHAIN_APPROX_SIMPLE)\n",
    "            rectangles = []\n",
    "\n",
    "            # Iterate over the contours and extract bounding rectangles\n",
    "            for c in contours:\n",
    "                if cv2.contourArea(c) < 2000:\n",
    "                    continue\n",
    "\n",
    "                x, y, w, h = cv2.boundingRect(c)\n",
    "                rectangles.append((x, y + int(height / 2), x + w, y + h + int(height / 2)))\n",
    "\n",
    "            # Count rectangles and draw them on the frame\n",
    "            for rectangle in rectangles:\n",
    "                status += 1\n",
    "                cv2.rectangle(frame, (rectangle[0], rectangle[1]), (rectangle[2], rectangle[3]), (0, 255, 0), 1)\n",
    "\n",
    "            status_list.append(status)\n",
    "\n",
    "            # Add to car count if current frame has more cars than previous frame\n",
    "            if status_list[-1] > status_list[-2]:\n",
    "                car_count += 1\n",
    "\n",
    "            # Display frames\n",
    "            cv2.imshow('Video', frame)\n",
    "            cv2.imshow('Baseline image', initial_frame)\n",
    "            cv2.imshow('Gray frame', gray_frame)\n",
    "            cv2.imshow('Delta frame', delta_frame)   \n",
    "            cv2.imshow('Threshold frame', threshold_frame)\n",
    "\n",
    "            # Exit if 'q' key is pressed\n",
    "            if cv2.waitKey(1) == ord('q'):\n",
    "                break\n",
    "\n",
    "        # Break if no more frames left\n",
    "        else:\n",
    "            break\n",
    "\n",
    "    # Print the total number of cars and cars per minute\n",
    "    print(f'Total number of cars: {car_count}')\n",
    "    print(f'Cars per minute: {car_count / (duration / 60)}')\n",
    "\n",
    "    # Release video object and close all windows\n",
    "    video.release()\n",
    "    cv2.destroyAllWindows()\n",
    "    cv2.waitKey(1)"
   ]
  },
  {
   "cell_type": "markdown",
   "id": "0adf236e",
   "metadata": {},
   "source": [
    "### Traffic_Laramie_1.mp4"
   ]
  },
  {
   "cell_type": "code",
   "execution_count": 4,
   "id": "e4dbfcaf",
   "metadata": {},
   "outputs": [
    {
     "name": "stdout",
     "output_type": "stream",
     "text": [
      "Total number of cars: 81\n",
      "Cars per minute: 27.31564748201439\n"
     ]
    }
   ],
   "source": [
    "task1_original('Traffic_Laramie_1.mp4')"
   ]
  },
  {
   "cell_type": "markdown",
   "id": "c0cd2ff7",
   "metadata": {},
   "source": [
    "### Traffic_Laramie_2.mp4"
   ]
  },
  {
   "cell_type": "code",
   "execution_count": 5,
   "id": "743e3aec",
   "metadata": {},
   "outputs": [
    {
     "name": "stdout",
     "output_type": "stream",
     "text": [
      "Total number of cars: 92\n",
      "Cars per minute: 52.23315669947009\n"
     ]
    }
   ],
   "source": [
    "task1_original('Traffic_Laramie_2.mp4')"
   ]
  },
  {
   "cell_type": "markdown",
   "id": "411a241d",
   "metadata": {},
   "source": [
    "## Second implementation"
   ]
  },
  {
   "cell_type": "code",
   "execution_count": 6,
   "id": "ff6b29b1",
   "metadata": {},
   "outputs": [],
   "source": [
    "def task1_improved(video_file):\n",
    "    status_list = [0, 0]\n",
    "    car_count = 0\n",
    "    initial_frame = None\n",
    "\n",
    "    # Read video file\n",
    "    video = cv2.VideoCapture(video_file)\n",
    "\n",
    "    # Check if video file opened successfully\n",
    "    if not video.isOpened(): \n",
    "        print('Error opening video file')\n",
    "\n",
    "    # Get video duration in seconds\n",
    "    frame_count = video.get(cv2.CAP_PROP_FRAME_COUNT)\n",
    "    fps = video.get(cv2.CAP_PROP_FPS)\n",
    "    duration = frame_count / fps\n",
    "\n",
    "    # Main loop to process each frame\n",
    "    while True:\n",
    "        # Read the current frame\n",
    "        check, frame = video.read()\n",
    "\n",
    "        # Continue processing if frame read successfully\n",
    "        if check:\n",
    "            status = 0\n",
    "\n",
    "            # Extract the main street region from the frame\n",
    "            height, width = frame.shape[:2]\n",
    "            main_street = frame[int(height / 2):, :]\n",
    "\n",
    "            # Convert the region to grayscale and apply Gaussian blur\n",
    "            gray_frame = cv2.cvtColor(main_street, cv2.COLOR_BGR2GRAY)\n",
    "            blur_frame = cv2.GaussianBlur(gray_frame, (25, 25), 0)\n",
    "\n",
    "            # If it is the first frame, set it as the initial frame for comparison\n",
    "            if initial_frame is None:\n",
    "                initial_frame = blur_frame\n",
    "                continue\n",
    "\n",
    "            # Calculate the difference between the current frame and the initial frame\n",
    "            delta_frame = cv2.absdiff(initial_frame, blur_frame)\n",
    "            _, threshold_frame = cv2.threshold(delta_frame, 0, 255, cv2.THRESH_BINARY + cv2.THRESH_OTSU)\n",
    "\n",
    "            # Find contours in the threshold frame\n",
    "            contours, _ = cv2.findContours(threshold_frame, cv2.RETR_EXTERNAL, cv2.CHAIN_APPROX_SIMPLE)\n",
    "            rectangles = []\n",
    "\n",
    "            # Iterate over the contours and extract bounding rectangles\n",
    "            for c in contours:\n",
    "                if cv2.contourArea(c) < 2000:\n",
    "                    continue\n",
    "\n",
    "                x, y, w, h = cv2.boundingRect(c)\n",
    "                rectangles.append((x, y + int(height / 2), x + w, y + h + int(height / 2)))\n",
    "\n",
    "            # Filter out overlapping rectangles\n",
    "            extra_rectangles = []\n",
    "\n",
    "            for i in range(len(rectangles)):\n",
    "                for j in range(i + 1, len(rectangles)):\n",
    "                    x1, y1, w1, h1 = rectangles[i]\n",
    "                    x2, y2, w2, h2 = rectangles[j]\n",
    "\n",
    "                    if (x1 >= x2 and x1 <= w2) or (w1 >= x2 and w1 <= w2) or (y1 >= y2 and y1 <= h2) or (h1 >= y2 and h1 <= h2):\n",
    "                        extra_rectangles.append(rectangles[i])\n",
    "                        break\n",
    "\n",
    "            # Count non-overlapping rectangles and draw them on the frame\n",
    "            for rectangle in rectangles:\n",
    "                if rectangle not in extra_rectangles:\n",
    "                    status += 1\n",
    "                    cv2.rectangle(frame, (rectangle[0], rectangle[1]), (rectangle[2], rectangle[3]), (0, 255, 0), 1)\n",
    "\n",
    "            status_list.append(status)\n",
    "\n",
    "            # Add to car count if current frame has more cars than previous frame\n",
    "            if status_list[-1] > status_list[-2]:\n",
    "                car_count += 1\n",
    "\n",
    "            # Display frames\n",
    "            cv2.imshow('Video', frame)\n",
    "            cv2.imshow('Baseline image', initial_frame)\n",
    "            cv2.imshow('Gray frame', gray_frame)\n",
    "            cv2.imshow('Delta frame', delta_frame)   \n",
    "            cv2.imshow('Threshold frame', threshold_frame)\n",
    "\n",
    "            # Exit if 'q' key is pressed\n",
    "            if cv2.waitKey(1) == ord('q'):\n",
    "                break\n",
    "\n",
    "        # Break if no more frames left\n",
    "        else:\n",
    "            break\n",
    "\n",
    "    # Print the total number of cars and cars per minute\n",
    "    print(f'Total number of cars: {car_count}')\n",
    "    print(f'Cars per minute: {car_count / (duration / 60)}')\n",
    "\n",
    "    # Release video object and close all windows\n",
    "    video.release()\n",
    "    cv2.destroyAllWindows()\n",
    "    cv2.waitKey(1)"
   ]
  },
  {
   "cell_type": "markdown",
   "id": "b0650c42",
   "metadata": {},
   "source": [
    "### Traffic_Laramie_1.mp4"
   ]
  },
  {
   "cell_type": "code",
   "execution_count": 7,
   "id": "194cdd4c",
   "metadata": {},
   "outputs": [
    {
     "name": "stdout",
     "output_type": "stream",
     "text": [
      "Total number of cars: 30\n",
      "Cars per minute: 10.116906474820144\n"
     ]
    }
   ],
   "source": [
    "task1_improved('Traffic_Laramie_1.mp4')"
   ]
  },
  {
   "cell_type": "markdown",
   "id": "f7fa10e3",
   "metadata": {},
   "source": [
    "### Traffic_Laramie_2.mp4"
   ]
  },
  {
   "cell_type": "code",
   "execution_count": 8,
   "id": "3d30b8c4",
   "metadata": {
    "scrolled": true
   },
   "outputs": [
    {
     "name": "stdout",
     "output_type": "stream",
     "text": [
      "Total number of cars: 42\n",
      "Cars per minute: 23.84557153671461\n"
     ]
    }
   ],
   "source": [
    "task1_improved('Traffic_Laramie_2.mp4')"
   ]
  },
  {
   "cell_type": "markdown",
   "id": "fe620c1f",
   "metadata": {},
   "source": [
    "# Exercise 1.2\n",
    "This exercise aims to detect the number of cars going towards the city centre.\n",
    "## First implementation"
   ]
  },
  {
   "cell_type": "code",
   "execution_count": 9,
   "id": "77b7196b",
   "metadata": {},
   "outputs": [],
   "source": [
    "def task2_original(video_file):\n",
    "    status_list = [0, 0]\n",
    "    car_count = 0\n",
    "    initial_frame = None\n",
    "\n",
    "    # Read video file\n",
    "    video = cv2.VideoCapture(video_file)\n",
    "\n",
    "    # Check if video file opened successfully\n",
    "    if not video.isOpened(): \n",
    "        print('Error opening video file')\n",
    "\n",
    "    # Get video duration in seconds\n",
    "    frame_count = video.get(cv2.CAP_PROP_FRAME_COUNT)\n",
    "    fps = video.get(cv2.CAP_PROP_FPS)\n",
    "    duration = frame_count / fps\n",
    "\n",
    "    # Main loop to process each frame\n",
    "    while True:\n",
    "        # Read the current frame\n",
    "        check, frame = video.read()\n",
    "\n",
    "        # Continue processing if frame read successfully\n",
    "        if check:\n",
    "            status = 0\n",
    "\n",
    "            # Extract the main street region from the frame\n",
    "            height, width = frame.shape[:2]\n",
    "            main_street = frame[int(height / 2):, :]\n",
    "\n",
    "            # Convert the region to grayscale and apply Gaussian blur\n",
    "            gray_frame = cv2.cvtColor(main_street, cv2.COLOR_BGR2GRAY)\n",
    "            blur_frame = cv2.GaussianBlur(gray_frame, (25, 25), 0)\n",
    "\n",
    "            # If it is the first frame, set it as the initial frame for comparison\n",
    "            if initial_frame is None:\n",
    "                initial_frame = blur_frame\n",
    "                continue\n",
    "\n",
    "            # Calculate the difference between the current frame and the initial frame\n",
    "            delta_frame = cv2.absdiff(initial_frame, blur_frame)\n",
    "            _, threshold_frame = cv2.threshold(delta_frame, 0, 255, cv2.THRESH_BINARY + cv2.THRESH_OTSU)\n",
    "\n",
    "            # Find contours in the threshold frame\n",
    "            contours, _ = cv2.findContours(threshold_frame, cv2.RETR_EXTERNAL, cv2.CHAIN_APPROX_SIMPLE)\n",
    "            rectangles = []\n",
    "\n",
    "            # Iterate over the contours and extract bounding rectangles going towards city centre\n",
    "            for c in contours:\n",
    "                if cv2.contourArea(c) < 2000:\n",
    "                    continue\n",
    "\n",
    "                x, y, w, h = cv2.boundingRect(c)\n",
    "\n",
    "                if (x + w <= int(width / 2) and y + h + int(height / 2) <= int(height / 4 * 3)):\n",
    "                    rectangles.append((x, y + int(height / 2), x + w, y + h + int(height / 2)))\n",
    "\n",
    "            # Count rectangles and draw them on the frame\n",
    "            for rectangle in rectangles:\n",
    "                status += 1\n",
    "                cv2.rectangle(frame, (rectangle[0], rectangle[1]), (rectangle[2], rectangle[3]), (0, 255, 0), 1)\n",
    "\n",
    "            status_list.append(status)\n",
    "\n",
    "            # Add to car count if current frame has more cars than previous frame\n",
    "            if status_list[-1] > status_list[-2]:\n",
    "                car_count += 1\n",
    "\n",
    "            # Display frames\n",
    "            cv2.imshow('Video', frame)\n",
    "            cv2.imshow('Baseline image', initial_frame)\n",
    "            cv2.imshow('Gray frame', gray_frame)\n",
    "            cv2.imshow('Delta frame', delta_frame)   \n",
    "            cv2.imshow('Threshold frame', threshold_frame)\n",
    "\n",
    "            # Exit if 'q' key is pressed\n",
    "            if cv2.waitKey(1) == ord('q'):\n",
    "                break\n",
    "\n",
    "        # Break if no more frames left\n",
    "        else:\n",
    "            break\n",
    "\n",
    "    # Print the total number of cars and cars per minute\n",
    "    print(f'Total number of cars: {car_count}')\n",
    "    print(f'Cars per minute: {car_count / (duration / 60)}')\n",
    "\n",
    "    # Release video object and close all windows\n",
    "    video.release()\n",
    "    cv2.destroyAllWindows()\n",
    "    cv2.waitKey(1)"
   ]
  },
  {
   "cell_type": "markdown",
   "id": "6f840e69",
   "metadata": {},
   "source": [
    "### Traffic_Laramie_1.mp4"
   ]
  },
  {
   "cell_type": "code",
   "execution_count": 10,
   "id": "c4a807f1",
   "metadata": {},
   "outputs": [
    {
     "name": "stdout",
     "output_type": "stream",
     "text": [
      "Total number of cars: 17\n",
      "Cars per minute: 5.732913669064748\n"
     ]
    }
   ],
   "source": [
    "task2_original('Traffic_Laramie_1.mp4')"
   ]
  },
  {
   "cell_type": "markdown",
   "id": "f44208bc",
   "metadata": {},
   "source": [
    "### Traffic_Laramie_2.mp4"
   ]
  },
  {
   "cell_type": "code",
   "execution_count": 11,
   "id": "2c9d9a99",
   "metadata": {},
   "outputs": [
    {
     "name": "stdout",
     "output_type": "stream",
     "text": [
      "Total number of cars: 9\n",
      "Cars per minute: 5.109765329295987\n"
     ]
    }
   ],
   "source": [
    "task2_original('Traffic_Laramie_2.mp4')"
   ]
  },
  {
   "cell_type": "markdown",
   "id": "d197bfe5",
   "metadata": {},
   "source": [
    "## Second implementation"
   ]
  },
  {
   "cell_type": "code",
   "execution_count": 12,
   "id": "5b0c6412",
   "metadata": {},
   "outputs": [],
   "source": [
    "def task2_improved(video_file):\n",
    "    status_list = [0, 0]\n",
    "    car_count = 0\n",
    "    initial_frame = None\n",
    "\n",
    "    # Read video file\n",
    "    video = cv2.VideoCapture(video_file)\n",
    "\n",
    "    # Check if video file opened successfully\n",
    "    if not video.isOpened(): \n",
    "        print('Error opening video file')\n",
    "\n",
    "    # Get video duration in seconds\n",
    "    frame_count = video.get(cv2.CAP_PROP_FRAME_COUNT)\n",
    "    fps = video.get(cv2.CAP_PROP_FPS)\n",
    "    duration = frame_count / fps\n",
    "\n",
    "    # Main loop to process each frame\n",
    "    while True:\n",
    "        # Read the current frame\n",
    "        check, frame = video.read()\n",
    "\n",
    "        # Continue processing if frame read successfully\n",
    "        if check:\n",
    "            status = 0\n",
    "\n",
    "            # Extract the main street region from the frame\n",
    "            height, width = frame.shape[:2]\n",
    "            main_street = frame[int(height / 2):, :]\n",
    "\n",
    "            # Convert the region to grayscale and apply Gaussian blur\n",
    "            gray_frame = cv2.cvtColor(main_street, cv2.COLOR_BGR2GRAY)\n",
    "            blur_frame = cv2.GaussianBlur(gray_frame, (25, 25), 0)\n",
    "\n",
    "            # If it is the first frame, set it as the initial frame for comparison\n",
    "            if initial_frame is None:\n",
    "                initial_frame = blur_frame\n",
    "                continue\n",
    "\n",
    "            # Calculate the difference between the current frame and the initial frame\n",
    "            delta_frame = cv2.absdiff(initial_frame, blur_frame)\n",
    "            _, threshold_frame = cv2.threshold(delta_frame, 0, 255, cv2.THRESH_BINARY + cv2.THRESH_OTSU)\n",
    "\n",
    "            # Find contours in the threshold frame\n",
    "            contours, _ = cv2.findContours(threshold_frame, cv2.RETR_EXTERNAL, cv2.CHAIN_APPROX_SIMPLE)\n",
    "            rectangles = []\n",
    "\n",
    "            # Iterate over the contours and extract bounding rectangles going towards city centre\n",
    "            for c in contours:\n",
    "                if cv2.contourArea(c) < 2000:\n",
    "                    continue\n",
    "\n",
    "                x, y, w, h = cv2.boundingRect(c)\n",
    "\n",
    "                if (x + w <= int(width / 2) and y + h + int(height / 2) <= int(height / 4 * 3)):\n",
    "                    rectangles.append((x, y + int(height / 2), x + w, y + h + int(height / 2)))\n",
    "\n",
    "            # Filter out overlapping rectangles\n",
    "            extra_rectangles = []\n",
    "\n",
    "            for i in range(len(rectangles)):\n",
    "                for j in range(i + 1, len(rectangles)):\n",
    "                    x1, y1, w1, h1 = rectangles[i]\n",
    "                    x2, y2, w2, h2 = rectangles[j]\n",
    "\n",
    "                    if (x1 >= x2 and x1 <= w2) or (w1 >= x2 and w1 <= w2) or (y1 >= y2 and y1 <= h2) or (h1 >= y2 and h1 <= h2):\n",
    "                        extra_rectangles.append(rectangles[i])\n",
    "                        break\n",
    "\n",
    "            # Count non-overlapping rectangles and draw them on the frame\n",
    "            for rectangle in rectangles:\n",
    "                if rectangle not in extra_rectangles:\n",
    "                    status += 1\n",
    "                    cv2.rectangle(frame, (rectangle[0], rectangle[1]), (rectangle[2], rectangle[3]), (0, 255, 0), 1)\n",
    "\n",
    "            status_list.append(status)\n",
    "\n",
    "            # Add to car count if current frame has more cars than previous frame\n",
    "            if status_list[-1] > status_list[-2]:\n",
    "                car_count += 1\n",
    "\n",
    "            # Display frames\n",
    "            cv2.imshow('Video', frame)\n",
    "            cv2.imshow('Baseline image', initial_frame)\n",
    "            cv2.imshow('Gray frame', gray_frame)\n",
    "            cv2.imshow('Delta frame', delta_frame)   \n",
    "            cv2.imshow('Threshold frame', threshold_frame)\n",
    "\n",
    "            # Exit if 'q' key is pressed\n",
    "            if cv2.waitKey(1) == ord('q'):\n",
    "                break\n",
    "\n",
    "        # Break if no more frames left\n",
    "        else:\n",
    "            break\n",
    "\n",
    "    # Print the total number of cars and cars per minute\n",
    "    print(f'Total number of cars: {car_count}')\n",
    "    print(f'Cars per minute: {car_count / (duration / 60)}')\n",
    "\n",
    "    # Release video object and close all windows\n",
    "    video.release()\n",
    "    cv2.destroyAllWindows()\n",
    "    cv2.waitKey(1)"
   ]
  },
  {
   "cell_type": "markdown",
   "id": "2ed51900",
   "metadata": {},
   "source": [
    "### Traffic_Laramie_1.mp4"
   ]
  },
  {
   "cell_type": "code",
   "execution_count": 13,
   "id": "e25bab66",
   "metadata": {},
   "outputs": [
    {
     "name": "stdout",
     "output_type": "stream",
     "text": [
      "Total number of cars: 11\n",
      "Cars per minute: 3.7095323741007196\n"
     ]
    }
   ],
   "source": [
    "task2_improved('Traffic_Laramie_1.mp4')"
   ]
  },
  {
   "cell_type": "markdown",
   "id": "ad166871",
   "metadata": {},
   "source": [
    "### Traffic_Laramie_2.mp4"
   ]
  },
  {
   "cell_type": "code",
   "execution_count": 14,
   "id": "09361305",
   "metadata": {},
   "outputs": [
    {
     "name": "stdout",
     "output_type": "stream",
     "text": [
      "Total number of cars: 9\n",
      "Cars per minute: 5.109765329295987\n"
     ]
    }
   ],
   "source": [
    "task2_improved('Traffic_Laramie_2.mp4')"
   ]
  }
 ],
 "metadata": {
  "kernelspec": {
   "display_name": "Python 3 (ipykernel)",
   "language": "python",
   "name": "python3"
  },
  "language_info": {
   "codemirror_mode": {
    "name": "ipython",
    "version": 3
   },
   "file_extension": ".py",
   "mimetype": "text/x-python",
   "name": "python",
   "nbconvert_exporter": "python",
   "pygments_lexer": "ipython3",
   "version": "3.11.5"
  }
 },
 "nbformat": 4,
 "nbformat_minor": 5
}
